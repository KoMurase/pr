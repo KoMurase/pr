{
 "cells": [
  {
   "cell_type": "code",
   "execution_count": 6,
   "metadata": {},
   "outputs": [
    {
     "name": "stdout",
     "output_type": "stream",
     "text": [
      "[[ 0  8]\n",
      " [10  1]\n",
      " [ 8  6]\n",
      " [ 1  4]\n",
      " [ 7  9]\n",
      " [ 2  5]\n",
      " [ 9  3]\n",
      " [ 2  9]\n",
      " [ 1  5]\n",
      " [ 9  4]\n",
      " [ 2  0]\n",
      " [ 8  8]\n",
      " [ 0  8]\n",
      " [ 2  8]\n",
      " [ 3  6]\n",
      " [ 7  1]\n",
      " [ 9  4]\n",
      " [10  2]\n",
      " [10  4]\n",
      " [ 8  0]\n",
      " [ 8  4]\n",
      " [ 8  1]\n",
      " [10  3]\n",
      " [ 2  9]\n",
      " [ 6  8]\n",
      " [ 9 10]\n",
      " [60 64]\n",
      " [68 61]\n",
      " [68 67]\n",
      " [68 61]\n",
      " [68 60]\n",
      " [64 67]\n",
      " [60 61]\n",
      " [61 69]\n",
      " [61 64]\n",
      " [64 67]\n",
      " [64 67]\n",
      " [67 61]\n",
      " [60 69]\n",
      " [63 66]\n",
      " [65 67]\n",
      " [69 67]\n",
      " [68 65]\n",
      " [66 64]\n",
      " [67 69]\n",
      " [69 66]\n",
      " [69 67]\n",
      " [60 60]\n",
      " [64 66]\n",
      " [63 64]\n",
      " [64 61]\n",
      " [69 68]]\n",
      "[0 0 0 0 0 0 0 0 0 0 0 0 0 0 0 0 0 0 0 0 0 0 0 0 0 0 1 1 1 1 1 1 1 1 1 1 1\n",
      " 1 1 1 1 1 1 1 1 1 1 1 1 1 1 1]\n"
     ]
    }
   ],
   "source": [
    "import numpy as np\n",
    "from numpy.random import randint\n",
    "x=randint(0,11,(26,2))\n",
    "y=randint(60,70,(26,2))\n",
    "X=np.concatenate((x,y),axis=0)\n",
    "print(X)\n",
    "Y0=randint(0,1,(26))\n",
    "Y1=randint(1,2,(26))\n",
    "Y=np.concatenate((Y0,Y1),axis=0)\n",
    "print(Y)"
   ]
  },
  {
   "cell_type": "code",
   "execution_count": null,
   "metadata": {},
   "outputs": [],
   "source": []
  }
 ],
 "metadata": {
  "kernelspec": {
   "display_name": "Python 3",
   "language": "python",
   "name": "python3"
  },
  "language_info": {
   "codemirror_mode": {
    "name": "ipython",
    "version": 3
   },
   "file_extension": ".py",
   "mimetype": "text/x-python",
   "name": "python",
   "nbconvert_exporter": "python",
   "pygments_lexer": "ipython3",
   "version": "3.7.1"
  }
 },
 "nbformat": 4,
 "nbformat_minor": 2
}
