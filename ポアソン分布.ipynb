{
 "cells": [
  {
   "cell_type": "code",
   "execution_count": 12,
   "metadata": {},
   "outputs": [
    {
     "name": "stdout",
     "output_type": "stream",
     "text": [
      "昼のピーク時にお客さんが７人である確率は,9.01%です\n"
     ]
    }
   ],
   "source": [
    "lamb=10\n",
    "k=7\n",
    "\n",
    "from math import exp\n",
    "from math import factorial\n",
    "\n",
    "prob=(lamb**k)*exp(-lamb)/factorial(k)\n",
    "\n",
    "print('昼のピーク時にお客さんが７人である確率は,{:0.2f}%です'.format(100*prob))"
   ]
  },
  {
   "cell_type": "code",
   "execution_count": 5,
   "metadata": {},
   "outputs": [
    {
     "name": "stdout",
     "output_type": "stream",
     "text": [
      "ピーク時に7人の確率は9.01%\n"
     ]
    }
   ],
   "source": [
    "#scipyにはpoissonというモジュールがあらかじめある\n",
    "\n",
    "from scipy.stats import poisson\n",
    "\n",
    "\n",
    "#平均は10です\n",
    "mu=10\n",
    "\n",
    "#確率質量関数を使って特定の関数を計算できる\n",
    "odds_seven=poisson.pmf(7,mu)\n",
    "\n",
    "print('ピーク時に7人の確率は{:0.2f}%'.format(odds_seven*100))"
   ]
  },
  {
   "cell_type": "code",
   "execution_count": 15,
   "metadata": {},
   "outputs": [
    {
     "data": {
      "text/plain": [
       "array([4.53999298e-05, 4.53999298e-04, 2.26999649e-03, 7.56665496e-03,\n",
       "       1.89166374e-02, 3.78332748e-02, 6.30554580e-02, 9.00792257e-02,\n",
       "       1.12599032e-01, 1.25110036e-01, 1.25110036e-01, 1.13736396e-01,\n",
       "       9.47803301e-02, 7.29079462e-02, 5.20771044e-02, 3.47180696e-02,\n",
       "       2.16987935e-02, 1.27639962e-02, 7.09110899e-03, 3.73216263e-03,\n",
       "       1.86608131e-03, 8.88610150e-04, 4.03913704e-04, 1.75614654e-04,\n",
       "       7.31727725e-05, 2.92691090e-05, 1.12573496e-05, 4.16938875e-06,\n",
       "       1.48906741e-06, 5.13471521e-07])"
      ]
     },
     "execution_count": 15,
     "metadata": {},
     "output_type": "execute_result"
    }
   ],
   "source": [
    "import numpy as np\n",
    "\n",
    "k=np.arange(30)\n",
    "lamb=10\n",
    "\n",
    "pmf_pois=poisson.pmf(k,lamb)\n",
    "pmf_pois"
   ]
  },
  {
   "cell_type": "code",
   "execution_count": null,
   "metadata": {},
   "outputs": [],
   "source": []
  },
  {
   "cell_type": "code",
   "execution_count": null,
   "metadata": {},
   "outputs": [],
   "source": []
  }
 ],
 "metadata": {
  "kernelspec": {
   "display_name": "Python 3",
   "language": "python",
   "name": "python3"
  },
  "language_info": {
   "codemirror_mode": {
    "name": "ipython",
    "version": 3
   },
   "file_extension": ".py",
   "mimetype": "text/x-python",
   "name": "python",
   "nbconvert_exporter": "python",
   "pygments_lexer": "ipython3",
   "version": "3.7.1"
  }
 },
 "nbformat": 4,
 "nbformat_minor": 2
}
